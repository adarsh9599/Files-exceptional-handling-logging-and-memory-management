{
  "nbformat": 4,
  "nbformat_minor": 0,
  "metadata": {
    "colab": {
      "provenance": []
    },
    "kernelspec": {
      "name": "python3",
      "display_name": "Python 3"
    },
    "language_info": {
      "name": "python"
    }
  },
  "cells": [
    {
      "cell_type": "markdown",
      "source": [
        "#Files, exceptional handling, logging and\n",
        "#memory management Questions"
      ],
      "metadata": {
        "id": "3-KrRdp6oNIW"
      }
    },
    {
      "cell_type": "markdown",
      "source": [
        "1. What is the difference between interpreted and compiled languages?\n",
        "-  In Python, the distinction between compiled and interpreted languages can be a bit nuanced. While Python is primarily an interpreted language, it also employs a compiler to convert the source code into an intermediate form called bytecode before execution.\n",
        "2. What is exception handling in Python?\n",
        "-  Exception handling in Python is a mechanism to manage errors that occur during program execution, preventing abrupt crashes and enhancing program robustness. It uses try, except, else, finally, and raise keywords to handle errors.\n",
        "3. What is the purpose of the finally block in exception handling?\n",
        "-  The finally block in Python is used within a try...except statement to define a section of code that will always be executed, regardless of whether an exception occurred or not. It is primarily used for cleanup actions or resource management.\n",
        "4. What is logging in Python?\n",
        "-  Logging in Python refers to the practice of recording events that occur during the execution of a program. It serves as a crucial tool for developers to track the flow of their application, identify issues, and monitor performance. The Python logging module provides a flexible framework for emitting log messages at different severity levels, such as:\n",
        "* DEBUG: Detailed information, typically used for debugging purposes.\n",
        "* INFO: General information about the application's execution.\n",
        "* WARNING: Indicates a potential issue or unexpected behavior.\n",
        "* ERROR: Signals a problem that prevents the application from functioning correctly.\n",
        "* CRITICAL: Represents a severe error that may lead to application termination.\n",
        "5. What is the significance of the __del__ method in Python?\n",
        "-  The __del__ method in Python is a special method, often referred to as a destructor. It is automatically called when an object is about to be destroyed or garbage collected. This usually happens when an object's reference count drops to zero, indicating it is no longer in use.\n",
        "6. What is the difference between import and from ... import in Python?\n",
        "-  In Python, both import and from ... import are used to bring modules or specific parts of modules into your code. However, they differ in how they make these elements accessible.\n",
        "# import module_name\n",
        "* Imports the entire module.\n",
        "* You need to use the module's name to access its contents using dot notation (e.g., module_name.function()).\n",
        "* Keeps the module's namespace separate.\n",
        "* Useful for larger programs to avoid naming conflicts.\n",
        "7. How can you handle multiple exceptions in Python?\n",
        "-  In Python, multiple exceptions can be handled using a single try-except block in several ways:\n",
        "#1. Using a Tuple of Exceptions\n",
        "Multiple exceptions can be caught in a single except block by specifying them as a tuple.\n",
        "8. What is the purpose of the with statement when handling files in Python?\n",
        "-  The with statement in Python simplifies file handling by ensuring that files are automatically closed after their use, even if exceptions occur. This is achieved through context managers, objects that define __enter__ and __exit__ methods for resource setup and teardown, respectively.\n",
        "When a file is opened using with open(...) as file:, the __enter__ method is called, opening the file. The code within the with block can then interact with the file. Once the block finishes, the __exit__ method is automatically called, closing the file. This eliminates the need for explicit file.close() calls and reduces the risk of resource leaks.\n",
        "Essentially, the with statement makes file handling more concise, readable, and robust by automating resource management.\n",
        "9. What is the difference between multithreading and multiprocessing?\n",
        "-  Multiprocessing and multithreading are two techniques for achieving parallelism in a program. Multithreading involves creating multiple threads within a single process, while multiprocessing involves creating multiple independent processes, each with its own memory space and resources.\n",
        "10. What are the advantages of using logging in a program?\n",
        "-  Logging provides significant advantages in program development and maintenance, primarily by enabling efficient debugging, performance monitoring, and security tracking. It helps developers gain insights into program behavior, identify issues, and make informed decisions about code optimization and system health.\n",
        "11. What is memory management in Python?\n",
        "-  Memory management in Python is the process of allocating and deallocating memory for objects. Python uses a private heap to store all of its objects and data structures. The Python memory manager handles the management of this private heap.\n",
        "12. What are the basic steps involved in exception handling in Python?\n",
        "-  Here are the basic steps involved in exception handling in Python:\n",
        "#Try Block:\n",
        "This block contains the code that might raise an exception. Python attempts to execute this code.\n",
        "#Except Block:\n",
        "If an exception occurs within the try block, the program immediately jumps to the except block. This block specifies how to handle the exception. You can have multiple except blocks to handle different types of exceptions.\n",
        "#Else Block:\n",
        "This block is optional and is executed only if no exceptions were raised in the try block. It follows all except blocks.\n",
        "#Finally Block:\n",
        "This block is also optional and is always executed, regardless of whether an  exception occurred or not. It is typically used for cleanup operations, like closing files or releasing resources.\n",
        "13. Why is memory management important in Python?\n",
        "-  Without proper memory management, you can face challenges while building these applications, as effective memory allocation is necessary in order to avoid problems that can arise when you run out of memory, such as memory leaks\n",
        "14. What is the role of try and except in exception handling?\n",
        "-  In exception handling, try and except blocks work together to gracefully manage errors. The try block contains code that might potentially raise an exception, while the except block catches and handles these exceptions, preventing the program from crashing.\n",
        "15. How does Python's garbage collection system work?\n",
        "-  Python uses a hybrid garbage collection system combining reference counting and generational garbage collection to manage memory effectively. Reference counting tracks how many variables point to an object, and when it reaches zero, the object is deallocated. However, reference counting doesn't handle circular references (where objects point to each other), which is where generational garbage collection comes in. It identifies and removes objects that are no longer reachable, breaking cycles\n",
        "16. What is the purpose of the else block in exception handling?\n",
        "-  The else block in exception handling, when used in conjunction with try and except, executes code only if no exceptions are raised within the try block. It allows for specific actions to be performed when the try block succeeds, improving program flow and readability by separating normal execution from exception handling.\n",
        "17. What are the common logging levels in Python?\n",
        "-  Here are the common logging levels in Python, ordered from least to most severe:\n",
        "# DEBUG:\n",
        "Detailed information, typically used for diagnosing problems. This level is helpful during development and debugging phases.\n",
        "# INFO:\n",
        "General information about the application's operation, confirming that things are working as expected.\n",
        "# WARNING:\n",
        "Indicates that something unexpected happened or might happen in the future. The application can still function, but attention might be needed.\n",
        "# ERROR:\n",
        "Indicates that a significant problem occurred, preventing certain functions from executing.\n",
        "# CRITICAL:\n",
        "A severe error that may cause the program to stop running.\n",
        "18. What is the difference between os.fork() and multiprocessing in Python?\n",
        "-  fork - Use os. fork() to fork the Python interpreter. This is the default in Python versions prior to 3.14. forkserver - Spawn a server process that will fork a new process on request.\n",
        "19. What is the importance of closing a file in Python?\n",
        "-  Closing files in Python is an essential practice that helps maintain data integrity, prevent resource leaks, and ensure the reliability of your applications. By mastering file handling techniques, you can write more robust and efficient Python code that effectively manages file resources.\n",
        "20. What is the difference between file.read() and file.readline() in Python?\n",
        "-  file.read() and file.readline() are both methods used to read data from a file in Python, but they differ in how much data they read at once.\n",
        "#file.read():\n",
        "* Reads the entire content of the file as a single string.\n",
        "* If a size argument is provided (e.g., file.read(10)), it reads up to that many bytes.\n",
        "* Can be inefficient for large files as it loads the entire file into memory.\n",
        "#file.readline():\n",
        "* Reads a single line from the file, including the newline character (\\n) at the end of the line.\n",
        "* Returns an empty string if it reaches the end of the file.\n",
        "* More memory-efficient than file.read() when processing large files, as it reads one line at a time.\n",
        "21. What is the logging module in Python used for?\n",
        "-  The logging module in Python is a standard library feature used for tracking events, debugging issues, and monitoring the health of applications. It provides a flexible way to record information about errors, warnings, and other events that occur during program execution.\n",
        "22. What is the os module in Python used for in file handling?\n",
        "-  Python has a built-in os module with methods for interacting with the operating system, like creating files and directories, management of files and directories, input, output, environment variables, process management, etc.\n",
        "24.  How do you raise an exception manually in Python?\n",
        "-  In Python, exceptions can be raised manually using the raise keyword. This is useful for signaling error conditions or exceptional situations that your code might encounter.\n",
        "25.  Why is it important to use multithreading in certain applications?\n",
        "-  Multithreading is crucial for applications needing to perform multiple tasks simultaneously or to improve responsiveness and resource utilization. By dividing tasks into threads, applications can run faster, handle multiple requests concurrently, and make better use of CPU cores. This is particularly important in applications like web servers, image processing, and real-time systems where responsiveness and efficient resource management are vital.\n",
        "\n"
      ],
      "metadata": {
        "id": "1ZO_FHWHoOJE"
      }
    },
    {
      "cell_type": "markdown",
      "source": [
        "#Practical Questions"
      ],
      "metadata": {
        "id": "ZG0wI67fxvL6"
      }
    },
    {
      "cell_type": "markdown",
      "source": [
        "1. How can you open a file for writing in Python and write a string to it?"
      ],
      "metadata": {
        "id": "GLFdeCnrxwba"
      }
    },
    {
      "cell_type": "code",
      "execution_count": null,
      "metadata": {
        "id": "eYVe2I8poLYJ"
      },
      "outputs": [],
      "source": [
        "# Open the file in write mode\n",
        "file = open(\"example.txt\", \"w\")\n",
        "\n",
        "# Write a string to the file\n",
        "file.write(\"Hello, this is a sample text.\")\n",
        "\n",
        "# Always close the file after writing\n",
        "file.close()\n",
        "with open(\"example.txt\", \"w\") as file:\n",
        "    file.write(\"Hello, this is a sample text.\")"
      ]
    },
    {
      "cell_type": "markdown",
      "source": [
        "3. How would you handle a case where the file doesn't exist while trying to open it for reading."
      ],
      "metadata": {
        "id": "Ovwlkz4X86P5"
      }
    },
    {
      "cell_type": "code",
      "source": [
        "try:\n",
        "    with open(\"file.txt\", \"r\") as file:\n",
        "        contents = file.read()\n",
        "        print(contents)\n",
        "except FileNotFoundError:\n",
        "    print(\"Error: The file does not exist.\")"
      ],
      "metadata": {
        "colab": {
          "base_uri": "https://localhost:8080/"
        },
        "id": "gVjtvyZI-VXt",
        "outputId": "3a5dd320-9eaa-4b5f-c618-6d02dcf39d16"
      },
      "execution_count": 1,
      "outputs": [
        {
          "output_type": "stream",
          "name": "stdout",
          "text": [
            "Error: The file does not exist.\n"
          ]
        }
      ]
    },
    {
      "cell_type": "markdown",
      "source": [
        "4. Write a Python script that reads from one file and writes its content to another file.\n"
      ],
      "metadata": {
        "id": "uilAYL0T-f-Z"
      }
    },
    {
      "cell_type": "code",
      "source": [
        "def copy_file(source_file, destination_file):\n",
        "    try:\n",
        "        with open(source_file, 'r') as src:\n",
        "            content = src.read()\n",
        "\n",
        "        with open(destination_file, 'w') as dest:\n",
        "            dest.write(content)\n",
        "\n",
        "        print(f\"Content copied from '{source_file}' to '{destination_file}' successfully.\")\n",
        "\n",
        "    except FileNotFoundError:\n",
        "        print(f\"Error: The file '{source_file}' does not exist.\")\n",
        "    except IOError as e:\n",
        "        print(f\"An I/O error occurred: {e}\")\n",
        "\n",
        "# Example usage\n",
        "copy_file('input.txt', 'output.txt')"
      ],
      "metadata": {
        "colab": {
          "base_uri": "https://localhost:8080/"
        },
        "id": "IWx6aX6M-nse",
        "outputId": "120f4a57-34ee-44f4-c26f-8588fa2507ae"
      },
      "execution_count": 2,
      "outputs": [
        {
          "output_type": "stream",
          "name": "stdout",
          "text": [
            "Error: The file 'input.txt' does not exist.\n"
          ]
        }
      ]
    },
    {
      "cell_type": "markdown",
      "source": [
        "5. How would you catch and handle division by zero error in Python?"
      ],
      "metadata": {
        "id": "FEtwUs-X-01T"
      }
    },
    {
      "cell_type": "code",
      "source": [
        "try:\n",
        "    numerator = 10\n",
        "    denominator = 0\n",
        "    result = numerator / denominator\n",
        "    print(\"Result:\", result)\n",
        "except ZeroDivisionError:\n",
        "    print(\"Error: Division by zero is not allowed.\")"
      ],
      "metadata": {
        "colab": {
          "base_uri": "https://localhost:8080/"
        },
        "id": "rmt1rYPH-7KS",
        "outputId": "42d410e3-b27e-48a3-89e2-80c710775456"
      },
      "execution_count": 3,
      "outputs": [
        {
          "output_type": "stream",
          "name": "stdout",
          "text": [
            "Error: Division by zero is not allowed.\n"
          ]
        }
      ]
    },
    {
      "cell_type": "markdown",
      "source": [
        "6. Write a Python program that logs an error message to a log file when a division by zero exception occurs."
      ],
      "metadata": {
        "id": "2p3krfQY_Gh8"
      }
    },
    {
      "cell_type": "code",
      "source": [
        "import logging\n",
        "\n",
        "# Configure the logging settings\n",
        "logging.basicConfig(filename='error_log.txt',\n",
        "                    level=logging.ERROR,\n",
        "                    format='%(asctime)s - %(levelname)s - %(message)s')\n",
        "\n",
        "def divide(a, b):\n",
        "    try:\n",
        "        result = a / b\n",
        "        print(f\"The result is: {result}\")\n",
        "    except ZeroDivisionError as e:\n",
        "        logging.error(\"Division by zero error occurred: %s\", e)\n",
        "        print(\"Error: Division by zero is not allowed.\")\n",
        "\n",
        "# Example usage\n",
        "x = 10\n",
        "y = 0\n",
        "divide(x, y)"
      ],
      "metadata": {
        "colab": {
          "base_uri": "https://localhost:8080/"
        },
        "id": "zUGZXVj9_M2q",
        "outputId": "b2b6f020-2809-4531-f441-50712d9159b8"
      },
      "execution_count": 4,
      "outputs": [
        {
          "output_type": "stream",
          "name": "stderr",
          "text": [
            "ERROR:root:Division by zero error occurred: division by zero\n"
          ]
        },
        {
          "output_type": "stream",
          "name": "stdout",
          "text": [
            "Error: Division by zero is not allowed.\n"
          ]
        }
      ]
    },
    {
      "cell_type": "markdown",
      "source": [
        "7. How do you log information at different levels (INFO, ERROR, WARNING) in Python using the logging module?\n"
      ],
      "metadata": {
        "id": "Kcbqpqyd_bEP"
      }
    },
    {
      "cell_type": "code",
      "source": [
        "import logging\n",
        "\n",
        "# Configure logging\n",
        "logging.basicConfig(\n",
        "    filename='app.log',        # Log output file\n",
        "    filemode='a',              # Append mode\n",
        "    format='%(asctime)s - %(levelname)s - %(message)s',\n",
        "    level=logging.DEBUG        # Set the lowest level to capture all messages\n",
        ")\n",
        "\n",
        "# Log messages at different levels\n",
        "logging.info(\"This is an INFO message.\")\n",
        "logging.warning(\"This is a WARNING message.\")\n",
        "logging.error(\"This is an ERROR message.\")"
      ],
      "metadata": {
        "colab": {
          "base_uri": "https://localhost:8080/"
        },
        "id": "sswQjLzg_h7K",
        "outputId": "8f839bbb-4642-429f-de86-eba6058360ea"
      },
      "execution_count": 5,
      "outputs": [
        {
          "output_type": "stream",
          "name": "stderr",
          "text": [
            "WARNING:root:This is a WARNING message.\n",
            "ERROR:root:This is an ERROR message.\n"
          ]
        }
      ]
    },
    {
      "cell_type": "code",
      "source": [
        "8. Write a program to handle a file opening error using exception handling."
      ],
      "metadata": {
        "id": "je5ToHVuyv0q"
      },
      "execution_count": null,
      "outputs": []
    },
    {
      "cell_type": "code",
      "source": [
        "try:\n",
        "    # Try to open a file that may not exist\n",
        "    with open(\"example.txt\", \"r\") as file:\n",
        "        content = file.read()\n",
        "        print(\"File contents:\")\n",
        "        print(content)\n",
        "except FileNotFoundError:\n",
        "    print(\"Error: The file 'example.txt' was not found.\")"
      ],
      "metadata": {
        "colab": {
          "base_uri": "https://localhost:8080/"
        },
        "id": "_Pg_HOl1AF4m",
        "outputId": "9e20cf71-2f19-4a6b-a1d0-2a8e0312ee32"
      },
      "execution_count": 6,
      "outputs": [
        {
          "output_type": "stream",
          "name": "stdout",
          "text": [
            "Error: The file 'example.txt' was not found.\n"
          ]
        }
      ]
    },
    {
      "cell_type": "markdown",
      "source": [
        "9. How can you read a file line by line and store its content in a list in Python."
      ],
      "metadata": {
        "id": "0GBuR1bqAK7Z"
      }
    },
    {
      "cell_type": "code",
      "source": [
        "# Open the file in read mode\n",
        "with open('filename.txt', 'r') as file:\n",
        "    lines = file.readlines()\n",
        "\n",
        "# Strip newline characters if needed\n",
        "lines = [line.strip() for line in lines]\n",
        "\n",
        "# Now 'lines' is a list containing each line of the file\n",
        "print(lines)\n",
        "lines = []\n",
        "with open('filename.txt', 'r') as file:\n",
        "    for line in file:\n",
        "        lines.append(line.strip())"
      ],
      "metadata": {
        "colab": {
          "base_uri": "https://localhost:8080/",
          "height": 211
        },
        "id": "7r1IxehhASGq",
        "outputId": "1a32f046-2311-4666-b6ff-be31a7eb3254"
      },
      "execution_count": 9,
      "outputs": [
        {
          "output_type": "error",
          "ename": "FileNotFoundError",
          "evalue": "[Errno 2] No such file or directory: 'filename.txt'",
          "traceback": [
            "\u001b[0;31m---------------------------------------------------------------------------\u001b[0m",
            "\u001b[0;31mFileNotFoundError\u001b[0m                         Traceback (most recent call last)",
            "\u001b[0;32m<ipython-input-9-4726b6b1c95a>\u001b[0m in \u001b[0;36m<cell line: 0>\u001b[0;34m()\u001b[0m\n\u001b[1;32m      1\u001b[0m \u001b[0;31m# Open the file in read mode\u001b[0m\u001b[0;34m\u001b[0m\u001b[0;34m\u001b[0m\u001b[0m\n\u001b[0;32m----> 2\u001b[0;31m \u001b[0;32mwith\u001b[0m \u001b[0mopen\u001b[0m\u001b[0;34m(\u001b[0m\u001b[0;34m'filename.txt'\u001b[0m\u001b[0;34m,\u001b[0m \u001b[0;34m'r'\u001b[0m\u001b[0;34m)\u001b[0m \u001b[0;32mas\u001b[0m \u001b[0mfile\u001b[0m\u001b[0;34m:\u001b[0m\u001b[0;34m\u001b[0m\u001b[0;34m\u001b[0m\u001b[0m\n\u001b[0m\u001b[1;32m      3\u001b[0m     \u001b[0mlines\u001b[0m \u001b[0;34m=\u001b[0m \u001b[0mfile\u001b[0m\u001b[0;34m.\u001b[0m\u001b[0mreadlines\u001b[0m\u001b[0;34m(\u001b[0m\u001b[0;34m)\u001b[0m\u001b[0;34m\u001b[0m\u001b[0;34m\u001b[0m\u001b[0m\n\u001b[1;32m      4\u001b[0m \u001b[0;34m\u001b[0m\u001b[0m\n\u001b[1;32m      5\u001b[0m \u001b[0;31m# Strip newline characters if needed\u001b[0m\u001b[0;34m\u001b[0m\u001b[0;34m\u001b[0m\u001b[0m\n",
            "\u001b[0;31mFileNotFoundError\u001b[0m: [Errno 2] No such file or directory: 'filename.txt'"
          ]
        }
      ]
    },
    {
      "cell_type": "markdown",
      "source": [
        "10. How can you append data to an existing file in Python?"
      ],
      "metadata": {
        "id": "I3S6zLoMApS6"
      }
    },
    {
      "cell_type": "code",
      "source": [
        "# Open the file in append mode\n",
        "with open('example.txt', 'a') as file:\n",
        "    file.write('This is the new line to append.\\n')\n",
        "    with open('example.txt', 'a+') as file:\n",
        "    file.write('Appending more data...\\n')\n",
        "    file.seek(0)  # Move to the beginning to read from start\n",
        "    content = file.read()\n",
        "    print(content)"
      ],
      "metadata": {
        "colab": {
          "base_uri": "https://localhost:8080/",
          "height": 106
        },
        "id": "POrwjW8ZAula",
        "outputId": "c62a735d-f070-4567-fa08-d3478f1ee77e"
      },
      "execution_count": 11,
      "outputs": [
        {
          "output_type": "error",
          "ename": "IndentationError",
          "evalue": "expected an indented block after 'with' statement on line 4 (<ipython-input-11-e8e2a6cd6034>, line 5)",
          "traceback": [
            "\u001b[0;36m  File \u001b[0;32m\"<ipython-input-11-e8e2a6cd6034>\"\u001b[0;36m, line \u001b[0;32m5\u001b[0m\n\u001b[0;31m    file.write('Appending more data...\\n')\u001b[0m\n\u001b[0m    ^\u001b[0m\n\u001b[0;31mIndentationError\u001b[0m\u001b[0;31m:\u001b[0m expected an indented block after 'with' statement on line 4\n"
          ]
        }
      ]
    },
    {
      "cell_type": "markdown",
      "source": [
        "11. Write a Python program that uses a try-except block to handle an error when attempting to access a\n",
        "dictionary key that doesn't exist."
      ],
      "metadata": {
        "id": "tjWeg9KKBGF2"
      }
    },
    {
      "cell_type": "code",
      "source": [
        "# Dictionary with some sample data\n",
        "person = {\n",
        "    \"name\": \"Alice\",\n",
        "    \"age\": 30\n",
        "}\n",
        "\n",
        "# Attempt to access a key that may not exist\n",
        "try:\n",
        "    # Try to access the 'address' key\n",
        "    address = person[\"address\"]\n",
        "    print(\"Address:\", address)\n",
        "except KeyError as e:\n",
        "    print(f\"Error: The key '{e.args[0]}' does not exist in the dictionary.\")"
      ],
      "metadata": {
        "colab": {
          "base_uri": "https://localhost:8080/"
        },
        "id": "axxUM7YlBMi4",
        "outputId": "88748be2-7a8f-4584-e6ae-e9976320af58"
      },
      "execution_count": 12,
      "outputs": [
        {
          "output_type": "stream",
          "name": "stdout",
          "text": [
            "Error: The key 'address' does not exist in the dictionary.\n"
          ]
        }
      ]
    },
    {
      "cell_type": "markdown",
      "source": [
        "12. Write a program that demonstrates using multiple except blocks to handle different types of exceptions."
      ],
      "metadata": {
        "id": "VPK1tKOxBXAt"
      }
    },
    {
      "cell_type": "code",
      "source": [
        "def divide_numbers():\n",
        "    try:\n",
        "        num1 = int(input(\"Enter the first number: \"))\n",
        "        num2 = int(input(\"Enter the second number: \"))\n",
        "        result = num1 / num2\n",
        "        print(f\"Result: {result}\")\n",
        "    except ValueError:\n",
        "        print(\"Error: Please enter valid integers.\")\n",
        "    except ZeroDivisionError:\n",
        "        print(\"Error: Cannot divide by zero.\")\n",
        "    except Exception as e:\n",
        "        print(f\"An unexpected error occurred: {e}\")\n",
        "\n",
        "divide_numbers()"
      ],
      "metadata": {
        "colab": {
          "base_uri": "https://localhost:8080/"
        },
        "id": "TT6o90qUBcaa",
        "outputId": "d9a72707-e3ab-4401-fe81-a4d3627c4faa"
      },
      "execution_count": 13,
      "outputs": [
        {
          "output_type": "stream",
          "name": "stdout",
          "text": [
            "Enter the first number: 1\n",
            "Enter the second number: 2\n",
            "Result: 0.5\n"
          ]
        }
      ]
    },
    {
      "cell_type": "markdown",
      "source": [
        "13. How would you check if a file exists before attempting to read it in Python?"
      ],
      "metadata": {
        "id": "Ion9HUTCBmyS"
      }
    },
    {
      "cell_type": "code",
      "source": [
        "import os\n",
        "\n",
        "file_path = 'example.txt'\n",
        "\n",
        "if os.path.exists(file_path):\n",
        "    with open(file_path, 'r') as file:\n",
        "        content = file.read()\n",
        "    print(content)\n",
        "else:\n",
        "    print(f\"The file '{file_path}' does not exist.\")\n",
        "    from pathlib import Path\n",
        "\n",
        "file_path = Path('example.txt')\n",
        "\n",
        "if file_path.exists():\n",
        "    with open(file_path, 'r') as file:\n",
        "        content = file.read()\n",
        "    print(content)\n",
        "else:\n",
        "    print(f\"The file '{file_path}' does not exist.\")"
      ],
      "metadata": {
        "colab": {
          "base_uri": "https://localhost:8080/"
        },
        "id": "te7q5pl2BvTq",
        "outputId": "4b27650d-944e-43fa-e1e7-d7e85b1d1c3c"
      },
      "execution_count": 14,
      "outputs": [
        {
          "output_type": "stream",
          "name": "stdout",
          "text": [
            "This is the new line to append.\n",
            "\n"
          ]
        }
      ]
    },
    {
      "cell_type": "markdown",
      "source": [
        "14. Write a program that uses the logging module to log both informational and error messages."
      ],
      "metadata": {
        "id": "3VABRsp8B_fC"
      }
    },
    {
      "cell_type": "code",
      "source": [
        "import logging\n",
        "\n",
        "# Configure logging: log messages to a file with level INFO and above\n",
        "logging.basicConfig(\n",
        "    filename='app.log',       # Log file name\n",
        "    level=logging.INFO,       # Minimum level to log (INFO and above)\n",
        "    format='%(asctime)s - %(levelname)s - %(message)s'  # Log message format\n",
        ")\n",
        "\n",
        "def divide_numbers(a, b):\n",
        "    logging.info(f\"Attempting to divide {a} by {b}\")\n",
        "    try:\n",
        "        result = a / b\n",
        "        logging.info(f\"Division successful: {result}\")\n",
        "        return result\n",
        "    except ZeroDivisionError as e:\n",
        "        logging.error(\"Error: Division by zero attempted.\")\n",
        "        return None\n",
        "\n",
        "# Example usage\n",
        "divide_numbers(10, 2)   # Should log info messages\n",
        "divide_numbers(5, 0)    # Should log an error message"
      ],
      "metadata": {
        "colab": {
          "base_uri": "https://localhost:8080/"
        },
        "id": "HY0os-j3CFMs",
        "outputId": "8b3cde00-737a-49ad-cdda-b64fb8fe8fea"
      },
      "execution_count": 15,
      "outputs": [
        {
          "output_type": "stream",
          "name": "stderr",
          "text": [
            "ERROR:root:Error: Division by zero attempted.\n"
          ]
        }
      ]
    },
    {
      "cell_type": "markdown",
      "source": [
        "15. Write a Python program that prints the content of a file and handles the case when the file is empty."
      ],
      "metadata": {
        "id": "jy_DCDdMCxZq"
      }
    },
    {
      "cell_type": "code",
      "source": [
        "def print_file_content(filename):\n",
        "    try:\n",
        "        with open(filename, 'r') as file:\n",
        "            content = file.read()\n",
        "            if content:\n",
        "                print(\"File content:\")\n",
        "                print(content)\n",
        "            else:\n",
        "                print(\"The file is empty.\")\n",
        "    except FileNotFoundError:\n",
        "        print(f\"Error: The file '{filename}' does not exist.\")\n",
        "    except Exception as e:\n",
        "        print(f\"An error occurred: {e}\")\n",
        "\n",
        "# Example usage\n",
        "filename = 'example.txt'  # Change this to your file path\n",
        "print_file_content(filename)"
      ],
      "metadata": {
        "colab": {
          "base_uri": "https://localhost:8080/"
        },
        "id": "hyTM_ZIXC52k",
        "outputId": "dcd66a34-0278-4c64-a32d-4a0d1dff3f1e"
      },
      "execution_count": 16,
      "outputs": [
        {
          "output_type": "stream",
          "name": "stdout",
          "text": [
            "File content:\n",
            "This is the new line to append.\n",
            "\n"
          ]
        }
      ]
    },
    {
      "cell_type": "code",
      "source": [
        "16. Demonstrate how to use memory profiling to check the memory usage of a small program."
      ],
      "metadata": {
        "id": "BqvEnankCT8T"
      },
      "execution_count": null,
      "outputs": []
    },
    {
      "cell_type": "code",
      "source": [
        "from memory_profiler import profile\n",
        "\n",
        "@profile\n",
        "def my_func():\n",
        "    a = [1] * (10**6)        # Allocate a list with 1 million integers\n",
        "    b = [2] * (2 * 10**7)   # Allocate a bigger list with 20 million integers\n",
        "    del b                   # Delete b to free memory\n",
        "    return a\n",
        "\n",
        "if __name__ == '__main__':\n",
        "    my_func()"
      ],
      "metadata": {
        "colab": {
          "base_uri": "https://localhost:8080/",
          "height": 383
        },
        "id": "JEqKuS8fDHot",
        "outputId": "573aaffa-7df9-4af2-cee7-825dd3fef2a2"
      },
      "execution_count": 17,
      "outputs": [
        {
          "output_type": "error",
          "ename": "ModuleNotFoundError",
          "evalue": "No module named 'memory_profiler'",
          "traceback": [
            "\u001b[0;31m---------------------------------------------------------------------------\u001b[0m",
            "\u001b[0;31mModuleNotFoundError\u001b[0m                       Traceback (most recent call last)",
            "\u001b[0;32m<ipython-input-17-bb7cdcee03de>\u001b[0m in \u001b[0;36m<cell line: 0>\u001b[0;34m()\u001b[0m\n\u001b[0;32m----> 1\u001b[0;31m \u001b[0;32mfrom\u001b[0m \u001b[0mmemory_profiler\u001b[0m \u001b[0;32mimport\u001b[0m \u001b[0mprofile\u001b[0m\u001b[0;34m\u001b[0m\u001b[0;34m\u001b[0m\u001b[0m\n\u001b[0m\u001b[1;32m      2\u001b[0m \u001b[0;34m\u001b[0m\u001b[0m\n\u001b[1;32m      3\u001b[0m \u001b[0;34m@\u001b[0m\u001b[0mprofile\u001b[0m\u001b[0;34m\u001b[0m\u001b[0;34m\u001b[0m\u001b[0m\n\u001b[1;32m      4\u001b[0m \u001b[0;32mdef\u001b[0m \u001b[0mmy_func\u001b[0m\u001b[0;34m(\u001b[0m\u001b[0;34m)\u001b[0m\u001b[0;34m:\u001b[0m\u001b[0;34m\u001b[0m\u001b[0;34m\u001b[0m\u001b[0m\n\u001b[1;32m      5\u001b[0m     \u001b[0ma\u001b[0m \u001b[0;34m=\u001b[0m \u001b[0;34m[\u001b[0m\u001b[0;36m1\u001b[0m\u001b[0;34m]\u001b[0m \u001b[0;34m*\u001b[0m \u001b[0;34m(\u001b[0m\u001b[0;36m10\u001b[0m\u001b[0;34m**\u001b[0m\u001b[0;36m6\u001b[0m\u001b[0;34m)\u001b[0m        \u001b[0;31m# Allocate a list with 1 million integers\u001b[0m\u001b[0;34m\u001b[0m\u001b[0;34m\u001b[0m\u001b[0m\n",
            "\u001b[0;31mModuleNotFoundError\u001b[0m: No module named 'memory_profiler'",
            "",
            "\u001b[0;31m---------------------------------------------------------------------------\u001b[0;32m\nNOTE: If your import is failing due to a missing package, you can\nmanually install dependencies using either !pip or !apt.\n\nTo view examples of installing some common dependencies, click the\n\"Open Examples\" button below.\n\u001b[0;31m---------------------------------------------------------------------------\u001b[0m\n"
          ],
          "errorDetails": {
            "actions": [
              {
                "action": "open_url",
                "actionText": "Open Examples",
                "url": "/notebooks/snippets/importing_libraries.ipynb"
              }
            ]
          }
        }
      ]
    },
    {
      "cell_type": "markdown",
      "source": [
        "17. Write a Python program to create and write a list of numbers to a file, one number per line."
      ],
      "metadata": {
        "id": "ExucjCvXDSxF"
      }
    },
    {
      "cell_type": "code",
      "source": [
        "# List of numbers to write\n",
        "numbers = [10, 20, 30, 40, 50]\n",
        "\n",
        "# Open the file in write mode\n",
        "with open(\"numbers.txt\", \"w\") as file:\n",
        "    for number in numbers:\n",
        "        file.write(str(number) + \"\\n\")"
      ],
      "metadata": {
        "id": "SXtiCF5zDXXI"
      },
      "execution_count": 18,
      "outputs": []
    },
    {
      "cell_type": "markdown",
      "source": [
        "18. How would you implement a basic logging setup that logs to a file with rotation after 1MB?"
      ],
      "metadata": {
        "id": "LuVkX4fHDiyO"
      }
    },
    {
      "cell_type": "code",
      "source": [
        "import logging\n",
        "from logging.handlers import RotatingFileHandler\n",
        "\n",
        "# Create logger\n",
        "logger = logging.getLogger('my_logger')\n",
        "logger.setLevel(logging.DEBUG)  # Set the minimum log level you want to capture\n",
        "\n",
        "# Create a rotating file handler\n",
        "handler = RotatingFileHandler(\n",
        "    'app.log',         # Log file name\n",
        "    maxBytes=1*1024*1024,  # 1MB = 1*1024*1024 bytes\n",
        "    backupCount=3      # Keep up to 3 backup files\n",
        ")\n",
        "\n",
        "# Create a logging format\n",
        "formatter = logging.Formatter('%(asctime)s - %(levelname)s - %(message)s')\n",
        "handler.setFormatter(formatter)\n",
        "\n",
        "# Add the handler to the logger\n",
        "logger.addHandler(handler)"
      ],
      "metadata": {
        "id": "JxF_YfFmDucY"
      },
      "execution_count": 19,
      "outputs": []
    },
    {
      "cell_type": "markdown",
      "source": [
        "19. Write a program that handles both IndexError and KeyError using a try-except block."
      ],
      "metadata": {
        "id": "ebTpWOHUEFls"
      }
    },
    {
      "cell_type": "code",
      "source": [
        "# Sample list and dictionary\n",
        "my_list = [10, 20, 30]\n",
        "my_dict = {'a': 1, 'b': 2}\n",
        "\n",
        "try:\n",
        "    # Attempt to access an invalid index in the list\n",
        "    print(\"Accessing list element:\", my_list[5])\n",
        "\n",
        "    # Attempt to access a non-existent key in the dictionary\n",
        "    print(\"Accessing dict value:\", my_dict['z'])\n",
        "\n",
        "except IndexError:\n",
        "    print(\"Caught an IndexError: List index out of range.\")\n",
        "\n",
        "except KeyError:\n",
        "    print(\"Caught a KeyError: Dictionary key not found.\")"
      ],
      "metadata": {
        "colab": {
          "base_uri": "https://localhost:8080/"
        },
        "id": "U8I84uqoENhZ",
        "outputId": "fb152236-faab-4ef0-9423-e216c0506d5e"
      },
      "execution_count": 20,
      "outputs": [
        {
          "output_type": "stream",
          "name": "stdout",
          "text": [
            "Caught an IndexError: List index out of range.\n"
          ]
        }
      ]
    },
    {
      "cell_type": "markdown",
      "source": [
        "20. How would you open a file and read its contents using a context manager in Python?"
      ],
      "metadata": {
        "id": "m4WP-K0vEYXh"
      }
    },
    {
      "cell_type": "code",
      "source": [
        "with open('filename.txt', 'r') as file:\n",
        "    contents = file.read()\n",
        "    print(contents)\n",
        "with open('filename.txt', 'r') as file:\n",
        "    for line in file:\n",
        "        print(line, end='')"
      ],
      "metadata": {
        "colab": {
          "base_uri": "https://localhost:8080/",
          "height": 211
        },
        "id": "m2W3OjNEEf-B",
        "outputId": "26d0e3c9-db39-4dca-d0ac-b4858e29de51"
      },
      "execution_count": 22,
      "outputs": [
        {
          "output_type": "error",
          "ename": "FileNotFoundError",
          "evalue": "[Errno 2] No such file or directory: 'filename.txt'",
          "traceback": [
            "\u001b[0;31m---------------------------------------------------------------------------\u001b[0m",
            "\u001b[0;31mFileNotFoundError\u001b[0m                         Traceback (most recent call last)",
            "\u001b[0;32m<ipython-input-22-3fb195b1d055>\u001b[0m in \u001b[0;36m<cell line: 0>\u001b[0;34m()\u001b[0m\n\u001b[0;32m----> 1\u001b[0;31m \u001b[0;32mwith\u001b[0m \u001b[0mopen\u001b[0m\u001b[0;34m(\u001b[0m\u001b[0;34m'filename.txt'\u001b[0m\u001b[0;34m,\u001b[0m \u001b[0;34m'r'\u001b[0m\u001b[0;34m)\u001b[0m \u001b[0;32mas\u001b[0m \u001b[0mfile\u001b[0m\u001b[0;34m:\u001b[0m\u001b[0;34m\u001b[0m\u001b[0;34m\u001b[0m\u001b[0m\n\u001b[0m\u001b[1;32m      2\u001b[0m     \u001b[0mcontents\u001b[0m \u001b[0;34m=\u001b[0m \u001b[0mfile\u001b[0m\u001b[0;34m.\u001b[0m\u001b[0mread\u001b[0m\u001b[0;34m(\u001b[0m\u001b[0;34m)\u001b[0m\u001b[0;34m\u001b[0m\u001b[0;34m\u001b[0m\u001b[0m\n\u001b[1;32m      3\u001b[0m     \u001b[0mprint\u001b[0m\u001b[0;34m(\u001b[0m\u001b[0mcontents\u001b[0m\u001b[0;34m)\u001b[0m\u001b[0;34m\u001b[0m\u001b[0;34m\u001b[0m\u001b[0m\n\u001b[1;32m      4\u001b[0m \u001b[0;32mwith\u001b[0m \u001b[0mopen\u001b[0m\u001b[0;34m(\u001b[0m\u001b[0;34m'filename.txt'\u001b[0m\u001b[0;34m,\u001b[0m \u001b[0;34m'r'\u001b[0m\u001b[0;34m)\u001b[0m \u001b[0;32mas\u001b[0m \u001b[0mfile\u001b[0m\u001b[0;34m:\u001b[0m\u001b[0;34m\u001b[0m\u001b[0;34m\u001b[0m\u001b[0m\n\u001b[1;32m      5\u001b[0m     \u001b[0;32mfor\u001b[0m \u001b[0mline\u001b[0m \u001b[0;32min\u001b[0m \u001b[0mfile\u001b[0m\u001b[0;34m:\u001b[0m\u001b[0;34m\u001b[0m\u001b[0;34m\u001b[0m\u001b[0m\n",
            "\u001b[0;31mFileNotFoundError\u001b[0m: [Errno 2] No such file or directory: 'filename.txt'"
          ]
        }
      ]
    },
    {
      "cell_type": "markdown",
      "source": [
        "21. Write a Python program that reads a file and prints the number of occurrences of a specific word."
      ],
      "metadata": {
        "id": "cQGjI-D8Euej"
      }
    },
    {
      "cell_type": "code",
      "source": [
        "def count_word_in_file(filename, word):\n",
        "    try:\n",
        "        with open(filename, 'r', encoding='utf-8') as file:\n",
        "            text = file.read().lower()  # read whole file and convert to lowercase\n",
        "        word = word.lower()\n",
        "        words = text.split()  # split text into words\n",
        "        count = words.count(word)  # count occurrences of the word\n",
        "        print(f\"The word '{word}' occurs {count} times in the file '{filename}'.\")\n",
        "    except FileNotFoundError:\n",
        "        print(f\"Error: The file '{filename}' was not found.\")\n",
        "    except Exception as e:\n",
        "        print(f\"An error occurred: {e}\")\n",
        "\n",
        "# Example usage:\n",
        "filename = \"example.txt\"  # change to your file path\n",
        "word = \"python\"           # change to the word you want to count\n",
        "count_word_in_file(filename, word)"
      ],
      "metadata": {
        "colab": {
          "base_uri": "https://localhost:8080/"
        },
        "id": "fEN39FCAEyd7",
        "outputId": "ed0d6e14-1cec-49c3-c0a9-e865f33b9f5a"
      },
      "execution_count": 23,
      "outputs": [
        {
          "output_type": "stream",
          "name": "stdout",
          "text": [
            "The word 'python' occurs 0 times in the file 'example.txt'.\n"
          ]
        }
      ]
    },
    {
      "cell_type": "markdown",
      "source": [
        "22. How can you check if a file is empty before attempting to read its contents?"
      ],
      "metadata": {
        "id": "e-l4i6FYE6Fz"
      }
    },
    {
      "cell_type": "code",
      "source": [
        "import os\n",
        "\n",
        "file_path = 'example.txt'\n",
        "\n",
        "if os.path.exists(file_path) and os.path.getsize(file_path) > 0:\n",
        "    with open(file_path, 'r') as f:\n",
        "        contents = f.read()\n",
        "    print(contents)\n",
        "else:\n",
        "    print(\"File is empty or does not exist.\")"
      ],
      "metadata": {
        "colab": {
          "base_uri": "https://localhost:8080/"
        },
        "id": "EFfUEqpEE-6x",
        "outputId": "3021ca00-3261-4140-db3e-fbe6a105ad5f"
      },
      "execution_count": 24,
      "outputs": [
        {
          "output_type": "stream",
          "name": "stdout",
          "text": [
            "This is the new line to append.\n",
            "\n"
          ]
        }
      ]
    },
    {
      "cell_type": "markdown",
      "source": [
        "23. Write a Python program that writes to a log file when an error occurs during file handling."
      ],
      "metadata": {
        "id": "WPqWoxhiFHwR"
      }
    },
    {
      "cell_type": "code",
      "source": [
        "import logging\n",
        "\n",
        "# Configure logging to write to a file named 'file_errors.log'\n",
        "logging.basicConfig(\n",
        "    filename='file_errors.log',\n",
        "    level=logging.ERROR,\n",
        "    format='%(asctime)s - %(levelname)s - %(message)s'\n",
        ")\n",
        "\n",
        "def read_file(file_path):\n",
        "    try:\n",
        "        with open(file_path, 'r') as f:\n",
        "            content = f.read()\n",
        "            print(content)\n",
        "    except Exception as e:\n",
        "        logging.error(f\"Error occurred while handling file '{file_path}': {e}\")\n",
        "        print(\"An error occurred. Check the log file for details.\")\n",
        "\n",
        "# Example usage:\n",
        "read_file('example.txt')  # Change to a filename that might not exist to trigger an error"
      ],
      "metadata": {
        "colab": {
          "base_uri": "https://localhost:8080/"
        },
        "id": "LERmstCuFNCp",
        "outputId": "e7b8ed11-cb94-4b80-d22e-32ea7d47b6ed"
      },
      "execution_count": 25,
      "outputs": [
        {
          "output_type": "stream",
          "name": "stdout",
          "text": [
            "This is the new line to append.\n",
            "\n"
          ]
        }
      ]
    }
  ]
}